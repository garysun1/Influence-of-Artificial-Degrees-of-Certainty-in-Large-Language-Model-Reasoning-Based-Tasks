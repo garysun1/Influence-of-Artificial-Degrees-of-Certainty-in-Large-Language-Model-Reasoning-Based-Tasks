{
 "cells": [
  {
   "cell_type": "markdown",
   "metadata": {},
   "source": [
    "# GSM8K"
   ]
  },
  {
   "cell_type": "code",
   "execution_count": 1,
   "metadata": {},
   "outputs": [
    {
     "name": "stderr",
     "output_type": "stream",
     "text": [
      "c:\\Users\\garys\\miniconda3\\envs\\llm_project\\lib\\site-packages\\tqdm\\auto.py:21: TqdmWarning: IProgress not found. Please update jupyter and ipywidgets. See https://ipywidgets.readthedocs.io/en/stable/user_install.html\n",
      "  from .autonotebook import tqdm as notebook_tqdm\n",
      "100%|██████████| 1319/1319 [59:49<00:00,  2.72s/it] "
     ]
    },
    {
     "name": "stdout",
     "output_type": "stream",
     "text": [
      "Results saved to results\\gsm8k_results.json\n"
     ]
    },
    {
     "name": "stderr",
     "output_type": "stream",
     "text": [
      "\n"
     ]
    }
   ],
   "source": [
    "import json\n",
    "import os\n",
    "import openai\n",
    "import re\n",
    "from datasets import load_dataset\n",
    "# from dotenv import load_dotenv\n",
    "from tqdm import tqdm\n",
    "from groq import Groq\n",
    "\n",
    "# Retrieve the Groq API key from the environment variable\n",
    "api_key = os.getenv('GROQ_API_KEY')\n",
    "model = \"llama-3.1-70b-versatile\"\n",
    "\n",
    "client = Groq(api_key=api_key)\n",
    "\n",
    "# Load the GSM8K dataset\n",
    "dataset = load_dataset('gsm8k', 'main', split='test')\n",
    "\n",
    "# Directory to save results\n",
    "output_dir = 'results'\n",
    "os.makedirs(output_dir, exist_ok=True)\n",
    "\n",
    "def call_llama(question):\n",
    "    \"\"\"Call OpenAI's GPT model with a question and return the response.\"\"\"\n",
    "    while True:\n",
    "        response = client.chat.completions.create(\n",
    "            messages=[\n",
    "                {\n",
    "                    \"role\": \"user\",\n",
    "                    \"content\": question,\n",
    "                }\n",
    "            ],\n",
    "            model=\"llama-3.1-70b-versatile\",\n",
    "        )\n",
    "        return response.choices[0].message.content\n",
    "        # response['choices'][0]['message']['content'].strip()\n",
    "\n",
    "# Main execution loop\n",
    "results = []\n",
    "for instance in tqdm(dataset):\n",
    "    question = instance['question']\n",
    "    answer = call_llama(question)\n",
    "    \n",
    "    # Store the question and answer\n",
    "    results.append({\n",
    "        \"question\": question,\n",
    "        \"answer\": answer\n",
    "    })\n",
    "\n",
    "# Save results to a JSON file\n",
    "with open(os.path.join(output_dir, 'gsm8k-results.json'), 'w') as f:\n",
    "    json.dump(results, f, indent=4)\n",
    "\n",
    "print(f\"Results saved to {os.path.join(output_dir, 'gsm8k-results.json')}\")"
   ]
  }
 ],
 "metadata": {
  "kernelspec": {
   "display_name": "llm_project",
   "language": "python",
   "name": "python3"
  },
  "language_info": {
   "codemirror_mode": {
    "name": "ipython",
    "version": 3
   },
   "file_extension": ".py",
   "mimetype": "text/x-python",
   "name": "python",
   "nbconvert_exporter": "python",
   "pygments_lexer": "ipython3",
   "version": "3.10.14"
  }
 },
 "nbformat": 4,
 "nbformat_minor": 2
}
