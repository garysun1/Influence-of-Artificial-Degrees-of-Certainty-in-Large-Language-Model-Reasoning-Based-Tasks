{
 "cells": [
  {
   "cell_type": "markdown",
   "metadata": {},
   "source": [
    "# GSM8K"
   ]
  },
  {
   "cell_type": "code",
   "execution_count": null,
   "metadata": {},
   "outputs": [],
   "source": [
    "import json\n",
    "import os\n",
    "import openai\n",
    "import re\n",
    "from datasets import load_dataset\n",
    "# from dotenv import load_dotenv\n",
    "from tqdm import tqdm\n",
    "from groq import Groq\n",
    "\n",
    "# Retrieve the Groq API key from the environment variable\n",
    "# api_key = os.getenv('GROQ_API_KEY')\n",
    "# model = \"llama-3.1-70b-versatile\"\n",
    "\n",
    "client = Groq(api_key='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')\n",
    "\n",
    "# Load the GSM8K dataset\n",
    "dataset = load_dataset('gsm8k', 'main', split='test')\n",
    "\n",
    "# Directory to save results\n",
    "output_dir = 'results'\n",
    "os.makedirs(output_dir, exist_ok=True)\n",
    "\n",
    "def call_llama(question):\n",
    "    \"\"\"Call OpenAI's GPT model with a question and return the response.\"\"\"\n",
    "    while True:\n",
    "        response = client.chat.completions.create(\n",
    "            messages=[\n",
    "                {\n",
    "                    \"role\": \"user\",\n",
    "                    \"content\": question,\n",
    "                }\n",
    "            ],\n",
    "            model=\"llama-3.1-70b-versatile\",\n",
    "        )\n",
    "        return response.choices[0].message.content\n",
    "        # response['choices'][0]['message']['content'].strip()\n",
    "\n",
    "# Main execution loop\n",
    "results = []\n",
    "for instance in tqdm(dataset):\n",
    "    question = instance['question']\n",
    "    answer = call_llama(question)\n",
    "    \n",
    "    # Store the question and answer\n",
    "    results.append({\n",
    "        \"question\": question,\n",
    "        \"answer\": answer\n",
    "    })\n",
    "\n",
    "# Save results to a JSON file\n",
    "with open(os.path.join(output_dir, 'gsm8k_results.json'), 'w') as f:\n",
    "    json.dump(results, f, indent=4)\n",
    "\n",
    "print(f\"Results saved to {os.path.join(output_dir, 'gsm8k_results.json')}\")\n",
    "\n",
    "# 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"
   ]
  }
 ],
 "metadata": {
  "kernelspec": {
   "display_name": "llm_project",
   "language": "python",
   "name": "python3"
  },
  "language_info": {
   "name": "python",
   "version": "3.10.14"
  }
 },
 "nbformat": 4,
 "nbformat_minor": 2
}
