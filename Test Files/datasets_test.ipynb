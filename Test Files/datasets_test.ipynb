{
    "cells": [
     {
      "cell_type": "markdown",
      "metadata": {},
      "source": [
       "# GSM8k"
      ]
     },
     {
      "cell_type": "code",
      "execution_count": 21,
      "metadata": {},
      "outputs": [
       {
        "name": "stdout",
        "output_type": "stream",
        "text": [
         "Dataset({\n",
         "    features: ['question', 'answer'],\n",
         "    num_rows: 1319\n",
         "})\n",
         "{'question': \"Janet’s ducks lay 16 eggs per day. She eats three for breakfast every morning and bakes muffins for her friends every day with four. She sells the remainder at the farmers' market daily for $2 per fresh duck egg. How much in dollars does she make every day at the farmers' market?\", 'answer': 'Janet sells 16 - 3 - 4 = <<16-3-4=9>>9 duck eggs a day.\\nShe makes 9 * 2 = $<<9*2=18>>18 every day at the farmer’s market.\\n#### 18'}\n"
        ]
       }
      ],
      "source": [
       "from datasets import load_dataset\n",
       "\n",
       "dataset = load_dataset(\"gsm8k\", \"main\", split=\"test\")\n",
       "\n",
       "# print(dataset.keys())\n",
       "print(dataset)\n",
       "print(dataset[0])"
      ]
     },
     {
      "cell_type": "markdown",
      "metadata": {},
      "source": [
       "# AQuA"
      ]
     },
     {
      "cell_type": "code",
      "execution_count": 22,
      "metadata": {},
      "outputs": [
       {
        "name": "stdout",
        "output_type": "stream",
        "text": [
         "Dataset({\n",
         "    features: ['question', 'options', 'rationale', 'correct'],\n",
         "    num_rows: 254\n",
         "})\n",
         "{'question': 'A car is being driven , in a straight line and at a uniform speed , towards the base of a vertical tower . The top of the tower is observed from the car and , in the process , it takes 10 minutes for the angle of elevation to change from 45 ° to 60 ° . After how much more time will this car reach the base of the tower ?', 'options': ['A ) 5 ( √ 3 + 1 )', 'B ) 6 ( √ 3 + √ 2 )', 'C ) 7 ( √ 3 – 1 )', 'D ) 8 ( √ 3 – 2 )', 'E ) None of these'], 'rationale': 'Explanation :\\nLet the height of the building be h . Initially , he was at an angle of 450 . tan 45 = h / distance between car and tower . h = distance between car and tower ( since tan 45 = 1 ) .\\nNow , after 10 minutes , it travelled a certain distance , and angle changed to 600 .\\ntan 60 = h / x x = h / √ 3\\nSo , in 10 minutes , it has travelled a distance of h – x = h - h / √ 3 .\\n10 minutes = h * ( 1 – 1 √ 3 )\\nh can be travelled in 10 / ( 1 – 1 √ 3 ) .\\nTo travel a distance of x , which is h / √ 3 , it takes :\\nh = 10 / ( 1 – 1 / √ 3 )\\nh / √ 3 = 10 / √ 3 * ( 1 – 1 / √ 3 ) . Multiply numerator and denominator by 1 + √ 3 ( conjugate of 1 - √ 3 ) . We get , x = h / √ 3 = 10 ( 1 + √ 3 ) / 2 = 5 * ( 1 + √ 3 )\\nSo , it takes 5 ( 1 + √ 3 ) minutes to reach the base of the tower .\\nAnswer : A', 'correct': 'A'}\n"
        ]
       }
      ],
      "source": [
       "from datasets import load_dataset\n",
       "\n",
       "dataset = load_dataset(\"deepmind/aqua_rat\", \"tokenized\", split=\"test\")\n",
       "\n",
       "# print(dataset.keys())\n",
       "print(dataset)\n",
       "print(dataset[0])"
      ]
     },
     {
      "cell_type": "markdown",
      "metadata": {},
      "source": [
       "# AGIEval"
      ]
     },
     {
      "cell_type": "code",
      "execution_count": 23,
      "metadata": {},
      "outputs": [
       {
        "name": "stdout",
        "output_type": "stream",
        "text": [
         "Dataset({\n",
         "    features: ['query', 'choices', 'gold'],\n",
         "    num_rows: 220\n",
         "})\n",
         "{'query': 'Q: If $\\\\frac{x-1}{3}=k$ and $k=3$, what is the value of $x ?$ Answer Choices: (A)2 (B)4 (C)9 (D)10\\nA: Among A through D, the answer is', 'choices': ['(A)2', '(B)4', '(C)9', '(D)10'], 'gold': [3]}\n"
        ]
       }
      ],
      "source": [
       "from datasets import load_dataset\n",
       "\n",
       "dataset = load_dataset(\"dmayhem93/agieval-sat-math\", split=\"test\")\n",
       "\n",
       "# print(dataset.keys())\n",
       "print(dataset)\n",
       "print(dataset[0])"
      ]
     },
     {
      "cell_type": "markdown",
      "metadata": {},
      "source": [
       "# MATH"
      ]
     },
     {
      "cell_type": "code",
      "execution_count": 24,
      "metadata": {},
      "outputs": [
       {
        "name": "stdout",
        "output_type": "stream",
        "text": [
         "Dataset({\n",
         "    features: ['problem', 'level', 'type', 'solution'],\n",
         "    num_rows: 5000\n",
         "})\n",
         "{'problem': 'How many vertical asymptotes does the graph of $y=\\\\frac{2}{x^2+x-6}$ have?', 'level': 'Level 3', 'type': 'Algebra', 'solution': 'The denominator of the rational function factors into $x^2+x-6=(x-2)(x+3)$. Since the numerator is always nonzero, there is a vertical asymptote whenever the denominator is $0$, which occurs for $x = 2$ and $x = -3$.  Therefore, the graph has $\\\\boxed{2}$ vertical asymptotes.'}\n"
        ]
       }
      ],
      "source": [
       "from datasets import load_dataset\n",
       "\n",
       "dataset = load_dataset(\"hendrycks/competition_math\", split=\"test\")\n",
       "\n",
       "# print(dataset.keys())\n",
       "print(dataset)\n",
       "print(dataset[0])"
      ]
     }
    ],
    "metadata": {
     "kernelspec": {
      "display_name": "llm_project",
      "language": "python",
      "name": "python3"
     },
     "language_info": {
      "codemirror_mode": {
       "name": "ipython",
       "version": 3
      },
      "file_extension": ".py",
      "mimetype": "text/x-python",
      "name": "python",
      "nbconvert_exporter": "python",
      "pygments_lexer": "ipython3",
      "version": "3.10.14"
     }
    },
    "nbformat": 4,
    "nbformat_minor": 2
   }
   