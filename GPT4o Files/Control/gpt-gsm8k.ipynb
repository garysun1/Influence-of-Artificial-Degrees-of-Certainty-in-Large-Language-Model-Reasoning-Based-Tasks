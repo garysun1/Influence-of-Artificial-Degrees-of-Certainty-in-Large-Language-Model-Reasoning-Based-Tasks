{
 "cells": [
  {
   "cell_type": "markdown",
   "metadata": {},
   "source": [
    "# GSM8K"
   ]
  },
  {
   "cell_type": "code",
   "execution_count": null,
   "metadata": {},
   "outputs": [],
   "source": [
    "import json\n",
    "import os\n",
    "import openai\n",
    "import re\n",
    "from datasets import load_dataset\n",
    "from dotenv import load_dotenv\n",
    "from tqdm import tqdm\n",
    "\n",
    "load_dotenv()\n",
    "openai.api_key = os.getenv('OPENAI_API_KEY')\n",
    "\n",
    "# Load the GSM8K dataset\n",
    "dataset = load_dataset(\"gsm8k\", \"main\")\n",
    "\n",
    "# Directory to save results\n",
    "output_dir = 'results'\n",
    "os.makedirs(output_dir, exist_ok=True)\n",
    "\n",
    "def call_gpt(question):\n",
    "    \"\"\"Call OpenAI's GPT model with a question and return the response.\"\"\"\n",
    "    while True:\n",
    "        try:\n",
    "            response = openai.ChatCompletion.create(\n",
    "                model=\"gpt-3.5-turbo\",  # Use your desired model\n",
    "                messages=[\n",
    "                    {'role': \"system\", \"content\": \"You are a helpful assistant.\"},\n",
    "                    {'role': \"user\", \"content\": question},\n",
    "                ],\n",
    "                temperature=0,\n",
    "                max_tokens=100,  # Adjust based on expected answer length\n",
    "                n=1,\n",
    "            )\n",
    "            return response['choices'][0]['message']['content'].strip()\n",
    "        except (openai.error.APIError, openai.error.RateLimitError, \n",
    "                openai.error.ServiceUnavailableError, openai.error.Timeout) as e:\n",
    "            print(f\"Error: {e}. Retrying in 2 seconds...\")\n",
    "            time.sleep(2)\n",
    "\n",
    "# Main execution loop\n",
    "results = []\n",
    "for instance in tqdm(dataset):\n",
    "    question = instance['question']\n",
    "    answer = call_gpt(question)\n",
    "    \n",
    "    # Store the question and answer\n",
    "    results.append({\n",
    "        \"question\": question,\n",
    "        \"answer\": answer\n",
    "    })\n",
    "\n",
    "# Save results to a JSON file\n",
    "with open(os.path.join(output_dir, 'gsm8k_results.json'), 'w') as f:\n",
    "    json.dump(results, f, indent=4)\n",
    "\n",
    "print(f\"Results saved to {os.path.join(output_dir, 'gsm8k_results.json')}\")"
   ]
  }
 ],
 "metadata": {
  "kernelspec": {
   "display_name": "base",
   "language": "python",
   "name": "python3"
  },
  "language_info": {
   "codemirror_mode": {
    "name": "ipython",
    "version": 3
   },
   "file_extension": ".py",
   "mimetype": "text/x-python",
   "name": "python",
   "nbconvert_exporter": "python",
   "pygments_lexer": "ipython3",
   "version": "3.10.14"
  }
 },
 "nbformat": 4,
 "nbformat_minor": 2
}
