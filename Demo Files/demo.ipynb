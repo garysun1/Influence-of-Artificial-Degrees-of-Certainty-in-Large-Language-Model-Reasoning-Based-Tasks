{
 "cells": [
  {
   "cell_type": "markdown",
   "metadata": {},
   "source": [
    "# Demo"
   ]
  },
  {
   "cell_type": "code",
   "execution_count": 3,
   "metadata": {},
   "outputs": [
    {
     "name": "stdout",
     "output_type": "stream",
     "text": [
      "Question: Janet’s ducks lay 16 eggs per day. She eats three for breakfast every morning and bakes muffins for her friends every day with four. She sells the remainder at the farmers' market daily for $2 per fresh duck egg. How much in dollars does she make every day at the farmers' market?\n",
      "Model response: Let's calculate Janet's daily earnings from selling duck eggs at the farmers' market step by step:\n",
      "\n",
      "1. **Total eggs laid per day**: 16 eggs\n",
      "2. **Eggs consumed for breakfast**: 3 eggs\n",
      "3. **Eggs used for baking muffins**: 4 eggs\n",
      "\n",
      "First, we need to find out how many eggs are left to sell after Janet uses some for breakfast and baking:\n",
      "\n",
      "\\[ \\text{Eggs left to sell} = \\text{Total eggs laid} - \\text{Eggs for breakfast} - \\text{Eggs for baking} \\]\n",
      "\\[ \\text{Eggs left to sell} = 16 - 3 - 4 \\]\n",
      "\\[ \\text{Eggs left to sell} = 9 \\]\n",
      "\n",
      "Next, we calculate the earnings from selling these eggs at $2 per egg:\n",
      "\n",
      "\\[ \\text{Earnings} = \\text{Eggs left to sell} \\times \\text{Price per egg} \\]\n",
      "\\[ \\text{Earnings} = 9 \\times 2 \\]\n",
      "\\[ \\text{Earnings} = 18 \\]\n",
      "\n",
      "Therefore, Janet makes $18 every day at the farmers' market.\n",
      "\n",
      "#### 18\n",
      "Model answer: 18\n",
      "Actual answer: 18\n",
      "Correct: True\n"
     ]
    }
   ],
   "source": [
    "import os\n",
    "import re\n",
    "from mistralai import Mistral\n",
    "from datasets import load_dataset\n",
    "\n",
    "# Retrieve the Mistral API key from environment variables\n",
    "api_key = os.getenv(\"MISTRAL_API_KEY\")\n",
    "client = Mistral(api_key=api_key)\n",
    "\n",
    "# Load the GSM8K dataset\n",
    "dataset = load_dataset(\"gsm8k\", \"main\", split=\"test\")\n",
    "\n",
    "def extract_answer(response):\n",
    "    \"\"\"Extract the numerical answer by finding the last number that occurs\"\"\"\n",
    "    match = re.findall(r\"\\-?\\d[\\d\\.,]*\", response)\n",
    "    if match:\n",
    "        answer = match[-1]\n",
    "        answer = answer.replace(\",\", \"\")\n",
    "        answer = answer.replace(\".\", \"\")\n",
    "        return answer\n",
    "    else:\n",
    "        return \"[invalid]\"\n",
    "\n",
    "def call_mistral(question):\n",
    "    while True:\n",
    "        chat_response = client.chat.complete(\n",
    "            model = \"mistral-large-latest\",\n",
    "            messages = [\n",
    "                  {\n",
    "                      \"role\":\"user\",\n",
    "                      \"content\":f\"{question}\\nPlease end your final response with the answer in the format '#### <number>'.\",\n",
    "                  }\n",
    "            ],\n",
    "            temperature = 0\n",
    "        )\n",
    "        return chat_response.choices[0].message.content\n",
    "\n",
    "question = dataset[0][\"question\"]\n",
    "solution = dataset[0][\"answer\"]\n",
    "model_response = call_mistral(question)\n",
    "model_answer = extract_answer(model_response)\n",
    "actual_answer = extract_answer(solution)\n",
    "\n",
    "print(f\"Question: {question}\")\n",
    "print(f\"Model response: {model_response}\")\n",
    "print(f\"Model answer: {model_answer}\")\n",
    "print(f\"Actual answer: {actual_answer}\")\n",
    "print(f\"Correct: {actual_answer == model_answer}\")"
   ]
  }
 ],
 "metadata": {
  "kernelspec": {
   "display_name": "llm_project",
   "language": "python",
   "name": "python3"
  },
  "language_info": {
   "codemirror_mode": {
    "name": "ipython",
    "version": 3
   },
   "file_extension": ".py",
   "mimetype": "text/x-python",
   "name": "python",
   "nbconvert_exporter": "python",
   "pygments_lexer": "ipython3",
   "version": "3.10.14"
  }
 },
 "nbformat": 4,
 "nbformat_minor": 2
}
